{
 "cells": [
  {
   "cell_type": "code",
   "execution_count": null,
   "metadata": {
    "collapsed": true
   },
   "outputs": [],
   "source": [
    "import matplotlib\n",
    "matplotlib.use('TkAgg')\n",
    "import matplotlib.pyplot as plt\n",
    "from random import randrange\n",
    "# custom modules\n",
    "from utils     import Options\n",
    "from simulator import Simulator\n",
    "\n",
    "# 0. initialization\n",
    "opt = Options()\n",
    "sim = Simulator(opt.map_ind, opt.cub_siz, opt.pob_siz, opt.act_num)\n",
    "\n",
    "# 1. demo control loop\n",
    "if opt.disp_on:\n",
    "    win_all = None\n",
    "    win_pob = None\n",
    "epi_step = 0    # #steps in current episode\n",
    "nepisodes = 0   # total #episodes executed\n",
    "\n",
    "\n",
    "for step in range(100):\n",
    "    if epi_step == 0:\n",
    "        state = sim.newGame(opt.tgt_y, opt.tgt_x)\n",
    "        nepisodes += 1\n",
    "    else:\n",
    "        # will perform A* actions\n",
    "        # this is the part where your agent later\n",
    "        # would take its action\n",
    "        state = sim.step()\n",
    "        # instead you could also take a random action\n",
    "        # state = sim.step(randrange(opt.act_num))\n",
    "\n",
    "    epi_step += 1\n",
    "\n",
    "    if state.terminal or epi_step >= opt.early_stop:\n",
    "        epi_step = 0\n",
    "\n",
    "    if opt.disp_on:\n",
    "        if win_all is None:\n",
    "            plt.subplot(121)\n",
    "            win_all = plt.imshow(state.screen)\n",
    "            plt.subplot(122)\n",
    "            win_pob = plt.imshow(state.pob)\n",
    "        else:\n",
    "            win_all.set_data(state.screen)\n",
    "            win_pob.set_data(state.pob)\n",
    "        plt.pause(opt.disp_interval)\n",
    "        plt.draw()\n",
    "\n"
   ]
  }
 ],
 "metadata": {
  "kernelspec": {
   "display_name": "Python 3",
   "language": "python",
   "name": "python3"
  },
  "language_info": {
   "codemirror_mode": {
    "name": "ipython",
    "version": 3
   },
   "file_extension": ".py",
   "mimetype": "text/x-python",
   "name": "python",
   "nbconvert_exporter": "python",
   "pygments_lexer": "ipython3",
   "version": "3.6.3"
  }
 },
 "nbformat": 4,
 "nbformat_minor": 2
}
